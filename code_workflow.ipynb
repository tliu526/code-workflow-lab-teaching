{
 "cells": [
  {
   "cell_type": "markdown",
   "metadata": {
    "slideshow": {
     "slide_type": "slide"
    }
   },
   "source": [
    "# Code Workflows and Tooling for Research in Python"
   ]
  },
  {
   "cell_type": "markdown",
   "metadata": {
    "slideshow": {
     "slide_type": "slide"
    }
   },
   "source": [
    "## My experience: a balancing act\n",
    "\n",
    "<center><img src=\"images/ss_shipit.jpg\" width=\"500\"></center>\n",
    "\n"
   ]
  },
  {
   "cell_type": "markdown",
   "metadata": {
    "slideshow": {
     "slide_type": "subslide"
    }
   },
   "source": [
    "## My experience: a balancing act\n",
    "\n",
    "- \"getting things done\" vs. \"doing things the right way\"\n",
    "- improving workflows is a process"
   ]
  },
  {
   "cell_type": "markdown",
   "metadata": {
    "slideshow": {
     "slide_type": "notes"
    }
   },
   "source": [
    "- \"just ship it\" mentality\n",
    "- \"technical debt\" analogy: the uncertainty of research makes taking on technical debt that much easier\n",
    "- try to start building habits that make \"doing things the right way\" efficient\n",
    "- it is a process: don't expect yourself to change all at once, make incremental improvements in workflow\n",
    "- also about building the right habits\n",
    "- will go through some not so great examples (from yours truly), some easy things to always do, some things to try and incorporate into your workflow, as well as some more involved setups\n",
    "- something easy to do and should be done, med, hard\n",
    "- will focus on Python here, but the same tooling exists and principles apply to other languages"
   ]
  },
  {
   "cell_type": "markdown",
   "metadata": {
    "slideshow": {
     "slide_type": "slide"
    }
   },
   "source": [
    "## Outline\n",
    "\n",
    "- Documentation\n",
    "- Testing\n",
    "- Version Control\n",
    "- Automation\n",
    "- Reproducibility\n",
    "- Workflow Discussion\n"
   ]
  },
  {
   "cell_type": "markdown",
   "metadata": {
    "slideshow": {
     "slide_type": "slide"
    }
   },
   "source": [
    "## Documentation\n",
    "\n",
    "1. Comment __while__ you code\n",
    "2. Ideally, follow a Docstring style\n",
    "3. Consider documentation generators"
   ]
  },
  {
   "cell_type": "markdown",
   "metadata": {
    "slideshow": {
     "slide_type": "slide"
    }
   },
   "source": [
    "- Write comments as you go: your future self will thank you\n",
    "- Use inline comments `#` to provide context\n",
    "- Use docstrings `\"\"\" \"\"\"` to describe the behavior of functions"
   ]
  },
  {
   "cell_type": "code",
   "execution_count": 1,
   "metadata": {
    "slideshow": {
     "slide_type": "fragment"
    }
   },
   "outputs": [],
   "source": [
    "# Not good\n",
    "def f(n):\n",
    "    return 1 << n"
   ]
  },
  {
   "cell_type": "code",
   "execution_count": 2,
   "metadata": {
    "slideshow": {
     "slide_type": "fragment"
    }
   },
   "outputs": [],
   "source": [
    "# Better\n",
    "def power_of_two(n):\n",
    "    \"\"\"Calculates 2^n.\"\"\"\n",
    "    \n",
    "    # left bit shift by n equivalent to 2^n.\n",
    "    return 1 << n"
   ]
  },
  {
   "cell_type": "code",
   "execution_count": 3,
   "metadata": {
    "scrolled": true,
    "slideshow": {
     "slide_type": "fragment"
    }
   },
   "outputs": [
    {
     "name": "stdout",
     "output_type": "stream",
     "text": [
      "Help on function power_of_two in module __main__:\n",
      "\n",
      "power_of_two(n)\n",
      "    Calculates 2^n.\n",
      "\n"
     ]
    }
   ],
   "source": [
    "        help(power_of_two)"
   ]
  },
  {
   "cell_type": "markdown",
   "metadata": {
    "slideshow": {
     "slide_type": "slide"
    }
   },
   "source": [
    "- Disclaimer: do not reinvent the wheel"
   ]
  },
  {
   "cell_type": "code",
   "execution_count": 35,
   "metadata": {
    "slideshow": {
     "slide_type": "fragment"
    }
   },
   "outputs": [],
   "source": [
    "import numpy as np\n",
    "def power_of_two(n):\n",
    "    \"\"\"Calculates 2^n, but n can be negative and non-integer now!\"\"\"\n",
    "    return np.power(2, n)"
   ]
  },
  {
   "cell_type": "code",
   "execution_count": 10,
   "metadata": {
    "slideshow": {
     "slide_type": "skip"
    }
   },
   "outputs": [],
   "source": [
    "# Not good\n",
    "def f(l):\n",
    "    ps = []\n",
    "    n = len(l)\n",
    "    for i in range(1<<n):\n",
    "        s = [l[j] for j in range(n) if (i & 1 << j)]\n",
    "        ps.append(s)\n",
    "    return ps"
   ]
  },
  {
   "cell_type": "code",
   "execution_count": 13,
   "metadata": {
    "slideshow": {
     "slide_type": "skip"
    }
   },
   "outputs": [],
   "source": [
    "# Better\n",
    "def powerset(l):\n",
    "    \"\"\"Returns the power set of l.\"\"\"\n",
    "    \n",
    "    ps = []\n",
    "    n = len(l)\n",
    "    # use n-bit binary number to indicate whether an item is included in a set\n",
    "    for i in range(1<<n):\n",
    "        # generate subset by checking which bits are 1 in i\n",
    "        s = [l[j] for j in range(n) if (i & 1 << j)]\n",
    "        ps.append(s)\n",
    "    return ps"
   ]
  },
  {
   "cell_type": "code",
   "execution_count": null,
   "metadata": {
    "slideshow": {
     "slide_type": "skip"
    }
   },
   "outputs": [],
   "source": [
    "# Disclaimer: do not reinvent the wheel\n",
    "# itertools-provided recipe for powerset\n",
    "from itertools import chain, combinations\n",
    "def powerset(iterable):\n",
    "    s = list(iterable)\n",
    "    return chain.from_iterable(combinations(s, r) for r in range(len(s)+1))"
   ]
  },
  {
   "cell_type": "code",
   "execution_count": 12,
   "metadata": {
    "slideshow": {
     "slide_type": "skip"
    }
   },
   "outputs": [
    {
     "name": "stdout",
     "output_type": "stream",
     "text": [
      "Help on function powerset in module __main__:\n",
      "\n",
      "powerset(l)\n",
      "    Returns the power set of l.\n",
      "\n"
     ]
    }
   ],
   "source": [
    "help(powerset)"
   ]
  },
  {
   "cell_type": "markdown",
   "metadata": {
    "slideshow": {
     "slide_type": "slide"
    }
   },
   "source": [
    "### Docstring styles\n",
    "\n",
    "- reST, Numpy, Google standardized documentation styles"
   ]
  },
  {
   "cell_type": "code",
   "execution_count": 16,
   "metadata": {
    "slideshow": {
     "slide_type": "subslide"
    }
   },
   "outputs": [],
   "source": [
    "# Google-style docstrings\n",
    "def power_of_two(n):\n",
    "    \"\"\"(Short description): Calculates 2^n.\n",
    "    \n",
    "    (Longer description): Calculates non-negative powers of two via bit shift.\n",
    "    \n",
    "    Args:\n",
    "        n (int): the exponent to raise 2 to.\n",
    "    Returns:\n",
    "        int: 2^n.\n",
    "    Raises:\n",
    "       ValueError: if n < 0.\n",
    "    \"\"\"\n",
    "    \n",
    "    # left bit shift by n equivalent to 2^n.\n",
    "    return 1 << n"
   ]
  },
  {
   "cell_type": "code",
   "execution_count": 39,
   "metadata": {
    "scrolled": true,
    "slideshow": {
     "slide_type": "subslide"
    }
   },
   "outputs": [
    {
     "name": "stdout",
     "output_type": "stream",
     "text": [
      "Help on function power_of_two in module __main__:\n",
      "\n",
      "power_of_two(n)\n",
      "\n"
     ]
    }
   ],
   "source": [
    "help(power_of_two)"
   ]
  },
  {
   "cell_type": "code",
   "execution_count": 7,
   "metadata": {
    "slideshow": {
     "slide_type": "subslide"
    }
   },
   "outputs": [
    {
     "name": "stdout",
     "output_type": "stream",
     "text": [
      "def power_of_two(n):\n",
      "    \"\"\"Calculates :math:`2^n`.\n",
      "    \n",
      "    Calculates non-negative powers of two via bit shift.\n",
      "    \n",
      "    Args:\n",
      "        n (int): the exponent to raise 2 to.\n",
      "    Returns:\n",
      "        int: :math:`2^n`.\n",
      "    Raises:\n",
      "       ValueError: if :math:`n \\lt 0`.\n",
      "    \"\"\"\n",
      "    \n",
      "    # left bit shift by n equivalent to 2^n.\n",
      "    return 1 << n\n",
      "make: Entering directory '/mnt/c/Users/1994t/Documents/Github/code-workflow-lab-teaching/sphinx_demo'\n",
      "\u001b[01mRunning Sphinx v1.8.5\u001b[39;49;00m\n",
      "\u001b[01mloading pickled environment... \u001b[39;49;00mdone\n",
      "\u001b[01mbuilding [mo]: \u001b[39;49;00mtargets for 0 po files that are out of date\n",
      "\u001b[01mbuilding [html]\u001b[39;49;00m: targets for 0 source files that are out of date\n",
      "\u001b[01mupdating environment: \u001b[39;49;00m0 added, 0 changed, 0 removed\n",
      "\u001b[01mlooking for now-outdated files... \u001b[39;49;00mnone found\n",
      "\u001b[01mno targets are out of date.\u001b[39;49;00m\n",
      "\u001b[01mbuild succeeded.\u001b[39;49;00m\n",
      "\n",
      "The HTML pages are in _build/html.\n",
      "make: Leaving directory '/mnt/c/Users/1994t/Documents/Github/code-workflow-lab-teaching/sphinx_demo'\n"
     ]
    }
   ],
   "source": [
    "! cat sphinx_demo/code/power_of_two.py\n",
    "! make -C sphinx_demo html"
   ]
  },
  {
   "cell_type": "markdown",
   "metadata": {
    "slideshow": {
     "slide_type": "subslide"
    }
   },
   "source": [
    "<center><img src=\"images/sphinx_doc.PNG\" width=\"1500\"></center>"
   ]
  },
  {
   "cell_type": "markdown",
   "metadata": {
    "slideshow": {
     "slide_type": "slide"
    }
   },
   "source": [
    "## Testing\n",
    "\n",
    "\"The first principle is that you must not fool yourself — and you are the easiest person to fool.\" — Richard Feynman"
   ]
  },
  {
   "cell_type": "markdown",
   "metadata": {
    "slideshow": {
     "slide_type": "notes"
    }
   },
   "source": [
    "- defensive coding\n",
    "- research code scares me -- since often we don't know what's \"correct\""
   ]
  },
  {
   "cell_type": "markdown",
   "metadata": {
    "slideshow": {
     "slide_type": "slide"
    }
   },
   "source": [
    "## Testing\n",
    "\n",
    "1. Think about what your code \"should do\"\n",
    "2. Write dedicated tests while you code\n",
    "3. Consider testing frameworks"
   ]
  },
  {
   "cell_type": "markdown",
   "metadata": {
    "slideshow": {
     "slide_type": "notes"
    }
   },
   "source": [
    "- we all write tests -- little print statements to verify the output, etc\n",
    "- but we end up throwing them away"
   ]
  },
  {
   "cell_type": "markdown",
   "metadata": {
    "slideshow": {
     "slide_type": "slide"
    }
   },
   "source": [
    "### Test-driven development mindset\n",
    "\n",
    "- write code to pass tests -> makes coding sessions more directed\n",
    "- forces you to think about failure points in your code"
   ]
  },
  {
   "cell_type": "markdown",
   "metadata": {
    "slideshow": {
     "slide_type": "subslide"
    }
   },
   "source": [
    "### Fizzbuzz example\n",
    "\n",
    "- `fizzbuzz` function, on input `n`:\n",
    "    - if n is divisible by 3, print \"fizz\"\n",
    "    - if n is divisible by 5, print \"buzz\"\n",
    "    - if n is divisible by both 3 and 5, print \"fizzbuzz\"\n",
    "    - otherwise, output n"
   ]
  },
  {
   "cell_type": "code",
   "execution_count": 22,
   "metadata": {
    "slideshow": {
     "slide_type": "fragment"
    }
   },
   "outputs": [],
   "source": [
    "def fizzbuzz(n):\n",
    "    pass"
   ]
  },
  {
   "cell_type": "code",
   "execution_count": 24,
   "metadata": {
    "slideshow": {
     "slide_type": "fragment"
    }
   },
   "outputs": [
    {
     "ename": "AssertionError",
     "evalue": "fails divides by 3 case",
     "output_type": "error",
     "traceback": [
      "\u001b[0;31m---------------------------------------------------------------------------\u001b[0m",
      "\u001b[0;31mAssertionError\u001b[0m                            Traceback (most recent call last)",
      "\u001b[0;32m<ipython-input-24-305336f33b5c>\u001b[0m in \u001b[0;36m<module>\u001b[0;34m\u001b[0m\n\u001b[1;32m      1\u001b[0m \u001b[0;31m# assert statements are your friend\u001b[0m\u001b[0;34m\u001b[0m\u001b[0;34m\u001b[0m\u001b[0;34m\u001b[0m\u001b[0m\n\u001b[0;32m----> 2\u001b[0;31m \u001b[0;32massert\u001b[0m \u001b[0mfizzbuzz\u001b[0m\u001b[0;34m(\u001b[0m\u001b[0;36m3\u001b[0m\u001b[0;34m)\u001b[0m \u001b[0;34m==\u001b[0m \u001b[0;34m'fizz'\u001b[0m\u001b[0;34m,\u001b[0m \u001b[0;34m'fails divides by 3 case'\u001b[0m\u001b[0;34m\u001b[0m\u001b[0;34m\u001b[0m\u001b[0m\n\u001b[0m\u001b[1;32m      3\u001b[0m \u001b[0;32massert\u001b[0m \u001b[0mfizzbuzz\u001b[0m\u001b[0;34m(\u001b[0m\u001b[0;36m5\u001b[0m\u001b[0;34m)\u001b[0m \u001b[0;34m==\u001b[0m \u001b[0;34m'buzz'\u001b[0m\u001b[0;34m,\u001b[0m \u001b[0;34m'fails divides by 5 case'\u001b[0m\u001b[0;34m\u001b[0m\u001b[0;34m\u001b[0m\u001b[0m\n\u001b[1;32m      4\u001b[0m \u001b[0;32massert\u001b[0m \u001b[0mfizzbuzz\u001b[0m\u001b[0;34m(\u001b[0m\u001b[0;36m15\u001b[0m\u001b[0;34m)\u001b[0m \u001b[0;34m==\u001b[0m \u001b[0;34m'fizzbuzz'\u001b[0m\u001b[0;34m,\u001b[0m \u001b[0;34m'fails divides by 15 case'\u001b[0m\u001b[0;34m\u001b[0m\u001b[0;34m\u001b[0m\u001b[0m\n\u001b[1;32m      5\u001b[0m \u001b[0;32massert\u001b[0m \u001b[0mfizzbuzz\u001b[0m\u001b[0;34m(\u001b[0m\u001b[0;36m1\u001b[0m\u001b[0;34m)\u001b[0m \u001b[0;34m==\u001b[0m \u001b[0;36m1\u001b[0m\u001b[0;34m,\u001b[0m \u001b[0;34m'fails else case'\u001b[0m\u001b[0;34m\u001b[0m\u001b[0;34m\u001b[0m\u001b[0m\n",
      "\u001b[0;31mAssertionError\u001b[0m: fails divides by 3 case"
     ]
    }
   ],
   "source": [
    "# assert statements are your friend\n",
    "assert fizzbuzz(3) == 'fizz', 'fails divides by 3 case'\n",
    "assert fizzbuzz(5) == 'buzz', 'fails divides by 5 case'\n",
    "assert fizzbuzz(15) == 'fizzbuzz', 'fails divides by 15 case'\n",
    "assert fizzbuzz(1) == 1, 'fails else case'"
   ]
  },
  {
   "cell_type": "markdown",
   "metadata": {
    "slideshow": {
     "slide_type": "notes"
    }
   },
   "source": [
    "- don't delete the assert statements! They help you regression test"
   ]
  },
  {
   "cell_type": "markdown",
   "metadata": {
    "slideshow": {
     "slide_type": "slide"
    }
   },
   "source": [
    "### Docstrings part II: testing"
   ]
  },
  {
   "cell_type": "code",
   "execution_count": 25,
   "metadata": {
    "slideshow": {
     "slide_type": "subslide"
    }
   },
   "outputs": [],
   "source": [
    "def fizzbuzz(n):\n",
    "    \"\"\"Performs the fizzbuzz function on input n.\n",
    "    \n",
    "    Doctests for regression testing, and examples of usage:\n",
    "    \n",
    "    >>> fizzbuzz(3)\n",
    "    'fizz'\n",
    "    >>> fizzbuzz(5)\n",
    "    'buzz'\n",
    "    >>> fizzbuzz(15)\n",
    "    'fizzbuzz'\n",
    "    >>> fizzbuzz(1)\n",
    "    1\n",
    "    \"\"\"\n",
    "    out = \"\"\n",
    "    if n % 3 == 0: out += \"fizz\"\n",
    "    if n % 5 == 0: out += \"buzz\"\n",
    "    return out if len(out) > 0 else n"
   ]
  },
  {
   "cell_type": "code",
   "execution_count": 33,
   "metadata": {
    "slideshow": {
     "slide_type": "fragment"
    }
   },
   "outputs": [
    {
     "data": {
      "text/plain": [
       "TestResults(failed=0, attempted=4)"
      ]
     },
     "execution_count": 33,
     "metadata": {},
     "output_type": "execute_result"
    }
   ],
   "source": [
    "import doctest\n",
    "doctest.testmod(verbose=False)"
   ]
  },
  {
   "cell_type": "markdown",
   "metadata": {
    "slideshow": {
     "slide_type": "slide"
    }
   },
   "source": [
    "### Consider testing frameworks like `unittest`\n",
    "\n",
    "- provides automation, shared setup/teardown of tests"
   ]
  },
  {
   "cell_type": "code",
   "execution_count": 36,
   "metadata": {
    "slideshow": {
     "slide_type": "fragment"
    }
   },
   "outputs": [],
   "source": [
    "\"\"\"Unit tests for feature extraction methods.\n",
    "\n",
    "\n",
    "Test contact hashes are:\n",
    "['1002060a7f4fe408f8137f12982e5d64cf34693',\n",
    "'10413044ad5f1183e38f5ddf17259326e976231']\n",
    "\n",
    "\"\"\"\n",
    "\n",
    "import datetime\n",
    "import os\n",
    "import pickle\n",
    "\n",
    "import numpy as np\n",
    "import pandas as pd\n",
    "import unittest\n",
    "\n",
    "class FeatureExtractTests(unittest.TestCase):\n",
    "\n",
    "    def assert_frame_equal_dict(self, actual_df, expected_dict, columns, check_dtype=True):\n",
    "        \"\"\"Helper function for doing df to dict comparison on the given columns.\"\"\"\n",
    "\n",
    "        expected_df = pd.DataFrame.from_dict(expected_dict).T\n",
    "        expected_df.columns = columns\n",
    "\n",
    "        pd.testing.assert_frame_equal(actual_df[columns],\n",
    "                                      expected_df,\n",
    "                                      check_dtype=check_dtype)\n",
    "\n",
    "\n",
    "    def setUp(self):\n",
    "        \"\"\"Populates test DataFrames common to all test cases.\"\"\"\n",
    "        self.pid1 = '1002060'\n",
    "        self.pid2 = '1041304'\n",
    "\n",
    "        self.combined_hash1 = '1002060a7f4fe408f8137f12982e5d64cf34693'\n",
    "        self.combined_hash2 = '10413044ad5f1183e38f5ddf17259326e976231'\n",
    "\n",
    "        with open(\"../data/test_comm.df\", 'rb') as comm_file:\n",
    "            self.raw_df = pickle.load(comm_file)\n",
    "            self.call_df = self.raw_df.loc[self.raw_df['comm_type'] == 'PHONE']\n",
    "            self.sms_df = self.raw_df.loc[self.raw_df['comm_type'] == 'SMS']\n",
    "\n",
    "        with open(\"../data/test_emm.df\", 'rb') as emm_file:\n",
    "            self.emm_df = pickle.load(emm_file)\n",
    "\n",
    "\n",
    "    def test_init_feature_df(self):\n",
    "        \"\"\"\"Tests init_feature_df function.\n",
    "        \n",
    "        Checks whether total_comms, total_comm_days, and contact_type columns are populated correctly.\n",
    "        \"\"\"\n",
    "        expected_dict = {\n",
    "            (self.pid1, self.combined_hash1): [8, 2, 'friend'],\n",
    "            (self.pid2, self.combined_hash2): [6, 3, 'family_live_together']\n",
    "        }\n",
    "\n",
    "        expected_df = pd.DataFrame.from_dict(expected_dict).T\n",
    "        expected_df.index = expected_df.index.rename(['pid', 'combined_hash'])\n",
    "        expected_df = expected_df.rename({\n",
    "                                            0: \"total_comms\",\n",
    "                                            1: \"total_comm_days\",\n",
    "                                            2: \"contact_type\"\n",
    "                                         },\n",
    "                                         axis='columns')\n",
    "        expected_df['total_comms'] = expected_df['total_comms'].astype(int)\n",
    "        expected_df['total_comm_days'] = expected_df['total_comm_days'].astype(int)\n",
    "        \n",
    "        actual_df = init_feature_df(self.raw_df)\n",
    "\n",
    "        pd.testing.assert_frame_equal(actual_df, expected_df)"
   ]
  },
  {
   "cell_type": "markdown",
   "metadata": {
    "slideshow": {
     "slide_type": "subslide"
    }
   },
   "source": [
    "```bash\n",
    "(code-workflow) tliu@DESKTOP-3QP831J:feature_extract$ python test_feature_extract.py -v\n",
    "test_build_avoidance_features (__main__.FeatureExtractTests) ... ok\n",
    "test_build_channel_selection_features (__main__.FeatureExtractTests) ... ok\n",
    "test_build_count_features (__main__.FeatureExtractTests) ... ok\n",
    "test_build_demo_features (__main__.FeatureExtractTests) ... ok\n",
    "test_build_duration_features (__main__.FeatureExtractTests) ... ok\n",
    "test_build_holiday_features (__main__.FeatureExtractTests) ... ok\n",
    "test_build_intensity_features (__main__.FeatureExtractTests) ... ok\n",
    "test_build_maintenance_features (__main__.FeatureExtractTests) ... ok\n",
    "test_build_temporal_features (__main__.FeatureExtractTests) ... ok\n",
    "test_filter_by_holiday (__main__.FeatureExtractTests) ... ok\n",
    "test_init_feature_df (__main__.FeatureExtractTests) ... ok\n",
    "\n",
    "----------------------------------------------------------------------\n",
    "Ran 11 tests in 2.086s\n",
    "\n",
    "OK\n",
    "\n",
    "```"
   ]
  },
  {
   "cell_type": "markdown",
   "metadata": {
    "slideshow": {
     "slide_type": "slide"
    }
   },
   "source": [
    "## Version Control"
   ]
  },
  {
   "cell_type": "markdown",
   "metadata": {
    "slideshow": {
     "slide_type": "slide"
    }
   },
   "source": [
    "## Version Control\n",
    "\n",
    "0. Use it!\n",
    "1. Commit messages should be informative\n",
    "2. Ideally subdivide tasks into concrete commits\n",
    "3. Consider branching strategies"
   ]
  },
  {
   "cell_type": "markdown",
   "metadata": {
    "slideshow": {
     "slide_type": "slide"
    }
   },
   "source": [
    "### Commit Messages"
   ]
  },
  {
   "cell_type": "markdown",
   "metadata": {
    "slideshow": {
     "slide_type": "subslide"
    }
   },
   "source": [
    "![](images/bad_commits.PNG)"
   ]
  },
  {
   "cell_type": "markdown",
   "metadata": {
    "slideshow": {
     "slide_type": "subslide"
    }
   },
   "source": [
    "### Commit Messages\n",
    "\n",
    "- Summarize commit in brief, imperative statement\n",
    "- Use commit body for more details if needed"
   ]
  },
  {
   "cell_type": "markdown",
   "metadata": {
    "slideshow": {
     "slide_type": "slide"
    }
   },
   "source": [
    "### Consider Development Branches\n",
    "\n",
    "- treat `master` as \"protected\" branch\n",
    "- work on new features in separate branches"
   ]
  },
  {
   "cell_type": "markdown",
   "metadata": {
    "slideshow": {
     "slide_type": "subslide"
    }
   },
   "source": [
    "### Development Branch Workflow\n",
    "\n",
    "![](images/feature_branch_01.svg)"
   ]
  },
  {
   "cell_type": "markdown",
   "metadata": {
    "slideshow": {
     "slide_type": "fragment"
    }
   },
   "source": [
    "```\n",
    "# create new branch, dev-branch\n",
    "git checkout -b dev-branch master\n",
    "\n",
    "# do work\n",
    "git add ...\n",
    "git commit ...\n",
    "\n",
    "# push to remote dev-branch, open PR\n",
    "git push origin dev-branch\n",
    "```"
   ]
  },
  {
   "cell_type": "markdown",
   "metadata": {
    "slideshow": {
     "slide_type": "subslide"
    }
   },
   "source": [
    "### Development Branch Workflow\n",
    "\n",
    "![](images/feature_branch_02.svg)"
   ]
  },
  {
   "cell_type": "markdown",
   "metadata": {
    "slideshow": {
     "slide_type": "subslide"
    }
   },
   "source": [
    "### Thoughts on Code Review\n",
    "\n",
    "- \"could you read my paper draft?\" -> \"could you review my code?\"\n",
    "\n",
    "<center><img src=\"images/code_review.PNG\" width=\"500\"></center>"
   ]
  },
  {
   "cell_type": "markdown",
   "metadata": {
    "slideshow": {
     "slide_type": "slide"
    }
   },
   "source": [
    "## Automation"
   ]
  },
  {
   "cell_type": "markdown",
   "metadata": {
    "slideshow": {
     "slide_type": "slide"
    }
   },
   "source": [
    "## Automation \n",
    "\n",
    "1. Move your work out of \"interactive mode\" as much as possible\n",
    "2. Ideally batch process computation\n",
    "3. Consider workflow automation tools like `make`"
   ]
  },
  {
   "cell_type": "markdown",
   "metadata": {
    "slideshow": {
     "slide_type": "slide"
    }
   },
   "source": [
    "### `argparse` is your friend\n",
    "\n",
    "- allows parameterization of entire modules\n",
    "- another form of documentation!"
   ]
  },
  {
   "cell_type": "code",
   "execution_count": 42,
   "metadata": {
    "slideshow": {
     "slide_type": "fragment"
    }
   },
   "outputs": [
    {
     "name": "stdout",
     "output_type": "stream",
     "text": [
      "usage: med_extract.py [-h] [--test] [--m_dm_outcome] [--rx_dm]\r\n",
      "                      data_dir yr q out_dir {m,lr,r} chunksize\r\n",
      "\r\n",
      "Extract data from Optum raw files and dump to DataFrames\r\n",
      "\r\n",
      "positional arguments:\r\n",
      "  data_dir        directory with all Optum data\r\n",
      "  yr              the year to target\r\n",
      "  q               the quarter to target\r\n",
      "  out_dir         output directory\r\n",
      "  {m,lr,r}        Optum table type to target: medical (m), lab reports (lr),\r\n",
      "                  prescriptions (r)\r\n",
      "  chunksize       number of rows to read per chunk\r\n",
      "\r\n",
      "optional arguments:\r\n",
      "  -h, --help      show this help message and exit\r\n",
      "  --test          whether to make a test run of the data extraction\r\n",
      "  --m_dm_outcome  perform diabetes med outcome extraction\r\n",
      "  --rx_dm         perform diabetes rx extraction\r\n"
     ]
    }
   ],
   "source": [
    "! python scripting_demo/med_extract.py -h"
   ]
  },
  {
   "cell_type": "markdown",
   "metadata": {
    "slideshow": {
     "slide_type": "notes"
    }
   },
   "source": [
    "- argparse is yet another form of documentation"
   ]
  },
  {
   "cell_type": "markdown",
   "metadata": {
    "slideshow": {
     "slide_type": "slide"
    }
   },
   "source": [
    "### Batch processing"
   ]
  },
  {
   "cell_type": "markdown",
   "metadata": {
    "slideshow": {
     "slide_type": "fragment"
    }
   },
   "source": [
    "```bash\n",
    "\n",
    "# nohup means ignore hangup (logouts), ampersand means run in the background\n",
    "nohup python batch_example.py &\n",
    "\n",
    "# alternatively, use tmux/screen window managers\n",
    "tmux new -s batch_session\n",
    "```"
   ]
  },
  {
   "cell_type": "markdown",
   "metadata": {
    "slideshow": {
     "slide_type": "notes"
    }
   },
   "source": [
    "- much better than running python ... (especially better than running a computation in jupyter)\n",
    "- more sophisticated way of scheduling jobs in the background"
   ]
  },
  {
   "cell_type": "markdown",
   "metadata": {
    "slideshow": {
     "slide_type": "slide"
    }
   },
   "source": [
    "### Consider `make` for complex workflows"
   ]
  },
  {
   "cell_type": "markdown",
   "metadata": {
    "slideshow": {
     "slide_type": "notes"
    }
   },
   "source": [
    "- disclaimer: I haven't yet encountered a workflow in my research career that make makes significantly easier"
   ]
  },
  {
   "cell_type": "markdown",
   "metadata": {
    "slideshow": {
     "slide_type": "fragment"
    }
   },
   "source": [
    "```bash\n",
    "\n",
    "# command from earlier to build documentation\n",
    "sphinx-build . _build -b html\n",
    "\n",
    "# Makefile equivalent\n",
    "make html\n",
    "```"
   ]
  },
  {
   "cell_type": "code",
   "execution_count": 38,
   "metadata": {
    "scrolled": false,
    "slideshow": {
     "slide_type": "fragment"
    }
   },
   "outputs": [
    {
     "name": "stdout",
     "output_type": "stream",
     "text": [
      "# Minimal makefile for Sphinx documentation\r\n",
      "#\r\n",
      "\r\n",
      "# You can set these variables from the command line.\r\n",
      "SPHINXOPTS    =\r\n",
      "SPHINXBUILD   = sphinx-build\r\n",
      "SOURCEDIR     = .\r\n",
      "BUILDDIR      = _build\r\n",
      "\r\n",
      "# Put it first so that \"make\" without argument is like \"make help\".\r\n",
      "help:\r\n",
      "\t@$(SPHINXBUILD) -M help \"$(SOURCEDIR)\" \"$(BUILDDIR)\" $(SPHINXOPTS) $(O)\r\n",
      "\r\n",
      ".PHONY: help Makefile\r\n",
      "\r\n",
      "# Catch-all target: route all unknown targets to Sphinx using the new\r\n",
      "# \"make mode\" option.  $(O) is meant as a shortcut for $(SPHINXOPTS).\r\n",
      "%: Makefile\r\n",
      "\t@$(SPHINXBUILD) -M $@ \"$(SOURCEDIR)\" \"$(BUILDDIR)\" $(SPHINXOPTS) $(O)"
     ]
    }
   ],
   "source": [
    "! cat sphinx_demo/Makefile"
   ]
  },
  {
   "cell_type": "markdown",
   "metadata": {
    "slideshow": {
     "slide_type": "slide"
    }
   },
   "source": [
    "## Reproducibility\n",
    "\n",
    "1. Parameterize code to facilitate A/B testing\n",
    "2. Ideally, track and parameterize your environment too\n",
    "3. Consider Docker for more complex builds"
   ]
  },
  {
   "cell_type": "markdown",
   "metadata": {
    "slideshow": {
     "slide_type": "slide"
    }
   },
   "source": [
    "### Bash scripts\n",
    "\n",
    "- Code form of an experimental procedure\n",
    "- gives us a mechanism to track changes in runs, A/B testing"
   ]
  },
  {
   "cell_type": "code",
   "execution_count": null,
   "metadata": {},
   "outputs": [],
   "source": []
  },
  {
   "cell_type": "markdown",
   "metadata": {},
   "source": [
    "### Tracking your environment"
   ]
  },
  {
   "cell_type": "markdown",
   "metadata": {
    "slideshow": {
     "slide_type": "slide"
    }
   },
   "source": [
    "## Workflow"
   ]
  },
  {
   "cell_type": "markdown",
   "metadata": {
    "slideshow": {
     "slide_type": "slide"
    }
   },
   "source": [
    "### Jupyter notebooks are __notebooks__\n",
    "\n",
    "- good for playing with the data\n",
    "- good for presenting and visualizing results\n",
    "- bad for \"doing work\" in between"
   ]
  },
  {
   "cell_type": "markdown",
   "metadata": {
    "slideshow": {
     "slide_type": "subslide"
    }
   },
   "source": [
    "### Jupyter notebook bloat\n",
    "\n",
    "- A cell that looks like [this](https://gist.github.com/tliu526/6e23aa99a323646be98691fb6d6a0f55)"
   ]
  },
  {
   "cell_type": "markdown",
   "metadata": {
    "slideshow": {
     "slide_type": "subslide"
    }
   },
   "source": [
    "### Jupyter notebook bloat\n",
    "\n",
    "- as opposed to a cell that looks like this:"
   ]
  },
  {
   "cell_type": "markdown",
   "metadata": {
    "slideshow": {
     "slide_type": "fragment"
    }
   },
   "source": [
    "```python\n",
    "\n",
    "from notebook_utils import build_hist, ttest_df, build_bar, ...\n",
    "```"
   ]
  },
  {
   "cell_type": "markdown",
   "metadata": {
    "slideshow": {
     "slide_type": "notes"
    }
   },
   "source": [
    "- note that \"doing work\" may never happen on a particular research thread, hence the appeal of Jupyter notebooks for research"
   ]
  },
  {
   "cell_type": "markdown",
   "metadata": {
    "slideshow": {
     "slide_type": "notes"
    }
   },
   "source": [
    "- deliverables on a project:\n",
    "\n",
    "- a paper (but what goes into a paper?)\n",
    "    - graphs\n",
    "    - experiments\n",
    "    - leaving a \"code trail\" \n",
    "    - (possibly) a code package!"
   ]
  },
  {
   "cell_type": "markdown",
   "metadata": {
    "slideshow": {
     "slide_type": "slide"
    }
   },
   "source": [
    "## References\n",
    "\n",
    "- [Atlassian Git Feature Branch Workflow](https://www.atlassian.com/git/tutorials/comparing-workflows/feature-branch-workflow)\n",
    "- [Git User Manual](https://git-scm.com/docs/user-manual.html)\n",
    "- [GNU Make Manual](https://www.gnu.org/software/make/manual/html_node/index.html#SEC_Contents)\n",
    "- [argparse documentation](https://docs.python.org/3/library/argparse.html)\n",
    "- [tmux cheat sheet](https://tmuxcheatsheet.com/)"
   ]
  }
 ],
 "metadata": {
  "celltoolbar": "Slideshow",
  "kernelspec": {
   "display_name": "Python 3",
   "language": "python",
   "name": "python3"
  },
  "language_info": {
   "codemirror_mode": {
    "name": "ipython",
    "version": 3
   },
   "file_extension": ".py",
   "mimetype": "text/x-python",
   "name": "python",
   "nbconvert_exporter": "python",
   "pygments_lexer": "ipython3",
   "version": "3.7.2"
  }
 },
 "nbformat": 4,
 "nbformat_minor": 2
}
