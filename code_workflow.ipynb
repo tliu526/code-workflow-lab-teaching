{
 "cells": [
  {
   "cell_type": "markdown",
   "metadata": {
    "slideshow": {
     "slide_type": "slide"
    }
   },
   "source": [
    "# Code Workflows and Tooling for Research in Python"
   ]
  },
  {
   "cell_type": "markdown",
   "metadata": {
    "slideshow": {
     "slide_type": "slide"
    }
   },
   "source": [
    "## My experience: a balancing act\n",
    "\n",
    "<center><img src=\"images/ss_shipit.jpg\" width=\"500\"></center>\n",
    "\n"
   ]
  },
  {
   "cell_type": "markdown",
   "metadata": {
    "slideshow": {
     "slide_type": "subslide"
    }
   },
   "source": [
    "- \"getting things done\" vs. \"doing things the right way\"\n",
    "- improving workflows is a process"
   ]
  },
  {
   "cell_type": "markdown",
   "metadata": {
    "slideshow": {
     "slide_type": "notes"
    }
   },
   "source": [
    "- \"just ship it\" mentality\n",
    "- \"technical debt\" analogy: the uncertainty of research makes taking on technical debt that much easier\n",
    "- try to start building habits that make \"doing things the right way\" efficient\n",
    "- it is a process: don't expect yourself to change all at once, make incremental improvements in workflow\n",
    "- also about building the right habits\n",
    "- will go through some not so great examples (from yours truly), some easy things to always do, some things to try and incorporate into your workflow, as well as some more involved setups\n",
    "- something easy to do and should be done, med, hard\n",
    "- will focus on Python here, but the same tooling exists and principles apply to other languages"
   ]
  },
  {
   "cell_type": "markdown",
   "metadata": {
    "slideshow": {
     "slide_type": "slide"
    }
   },
   "source": [
    "## Outline\n",
    "\n",
    "- Documentation\n",
    "- Testing\n",
    "- Version Control\n",
    "- Automation\n",
    "- Reproducibility\n"
   ]
  },
  {
   "cell_type": "markdown",
   "metadata": {
    "slideshow": {
     "slide_type": "slide"
    }
   },
   "source": [
    "## Documentation\n",
    "\n",
    "1. Comment __while__ you code\n",
    "2. Ideally, follow a Docstring style\n",
    "3. Consider documentation generators"
   ]
  },
  {
   "cell_type": "markdown",
   "metadata": {
    "slideshow": {
     "slide_type": "slide"
    }
   },
   "source": [
    "- Write comments as you go: your future self will thank you\n",
    "- Use inline comments `#` to provide context\n",
    "- Use docstrings `\"\"\" \"\"\"` to describe the behavior of functions"
   ]
  },
  {
   "cell_type": "code",
   "execution_count": 1,
   "metadata": {
    "slideshow": {
     "slide_type": "fragment"
    }
   },
   "outputs": [],
   "source": [
    "# Not good\n",
    "def f(n):\n",
    "    return 1 << n"
   ]
  },
  {
   "cell_type": "code",
   "execution_count": 2,
   "metadata": {
    "slideshow": {
     "slide_type": "fragment"
    }
   },
   "outputs": [],
   "source": [
    "# Better\n",
    "def power_of_two(n):\n",
    "    \"\"\"Calculates 2^n.\"\"\"\n",
    "    \n",
    "    # left bit shift by n equivalent to 2^n.\n",
    "    return 1 << n"
   ]
  },
  {
   "cell_type": "code",
   "execution_count": 3,
   "metadata": {
    "slideshow": {
     "slide_type": "fragment"
    }
   },
   "outputs": [
    {
     "name": "stdout",
     "output_type": "stream",
     "text": [
      "Help on function power_of_two in module __main__:\n",
      "\n",
      "power_of_two(n)\n",
      "    Calculates 2^n.\n",
      "\n"
     ]
    }
   ],
   "source": [
    "help(power_of_two)"
   ]
  },
  {
   "cell_type": "markdown",
   "metadata": {
    "slideshow": {
     "slide_type": "slide"
    }
   },
   "source": [
    "- Disclaimer: do not reinvent the wheel"
   ]
  },
  {
   "cell_type": "code",
   "execution_count": 4,
   "metadata": {
    "slideshow": {
     "slide_type": "fragment"
    }
   },
   "outputs": [
    {
     "ename": "ModuleNotFoundError",
     "evalue": "No module named 'numpy'",
     "output_type": "error",
     "traceback": [
      "\u001b[0;31m---------------------------------------------------------------------------\u001b[0m",
      "\u001b[0;31mModuleNotFoundError\u001b[0m                       Traceback (most recent call last)",
      "\u001b[0;32m<ipython-input-4-4c3535b8043b>\u001b[0m in \u001b[0;36m<module>\u001b[0;34m\u001b[0m\n\u001b[0;32m----> 1\u001b[0;31m \u001b[0;32mimport\u001b[0m \u001b[0mnumpy\u001b[0m \u001b[0;32mas\u001b[0m \u001b[0mnp\u001b[0m\u001b[0;34m\u001b[0m\u001b[0;34m\u001b[0m\u001b[0m\n\u001b[0m\u001b[1;32m      2\u001b[0m \u001b[0;32mdef\u001b[0m \u001b[0mpower_of_two\u001b[0m\u001b[0;34m(\u001b[0m\u001b[0mn\u001b[0m\u001b[0;34m)\u001b[0m\u001b[0;34m:\u001b[0m\u001b[0;34m\u001b[0m\u001b[0;34m\u001b[0m\u001b[0m\n\u001b[1;32m      3\u001b[0m     \u001b[0;32mreturn\u001b[0m \u001b[0mnp\u001b[0m\u001b[0;34m.\u001b[0m\u001b[0mpower\u001b[0m\u001b[0;34m(\u001b[0m\u001b[0;36m2\u001b[0m\u001b[0;34m,\u001b[0m \u001b[0mn\u001b[0m\u001b[0;34m)\u001b[0m\u001b[0;34m\u001b[0m\u001b[0;34m\u001b[0m\u001b[0m\n",
      "\u001b[0;31mModuleNotFoundError\u001b[0m: No module named 'numpy'"
     ]
    }
   ],
   "source": [
    "import numpy as np\n",
    "def power_of_two(n):\n",
    "    return np.power(2, n)"
   ]
  },
  {
   "cell_type": "code",
   "execution_count": 10,
   "metadata": {
    "slideshow": {
     "slide_type": "skip"
    }
   },
   "outputs": [],
   "source": [
    "# Not good\n",
    "def f(l):\n",
    "    ps = []\n",
    "    n = len(l)\n",
    "    for i in range(1<<n):\n",
    "        s = [l[j] for j in range(n) if (i & 1 << j)]\n",
    "        ps.append(s)\n",
    "    return ps"
   ]
  },
  {
   "cell_type": "code",
   "execution_count": 13,
   "metadata": {
    "slideshow": {
     "slide_type": "skip"
    }
   },
   "outputs": [],
   "source": [
    "# Better\n",
    "def powerset(l):\n",
    "    \"\"\"Returns the power set of l.\"\"\"\n",
    "    \n",
    "    ps = []\n",
    "    n = len(l)\n",
    "    # use n-bit binary number to indicate whether an item is included in a set\n",
    "    for i in range(1<<n):\n",
    "        # generate subset by checking which bits are 1 in i\n",
    "        s = [l[j] for j in range(n) if (i & 1 << j)]\n",
    "        ps.append(s)\n",
    "    return ps"
   ]
  },
  {
   "cell_type": "code",
   "execution_count": null,
   "metadata": {
    "slideshow": {
     "slide_type": "skip"
    }
   },
   "outputs": [],
   "source": [
    "# Disclaimer: do not reinvent the wheel\n",
    "# itertools-provided recipe for powerset\n",
    "from itertools import chain, combinations\n",
    "def powerset(iterable):\n",
    "    s = list(iterable)\n",
    "    return chain.from_iterable(combinations(s, r) for r in range(len(s)+1))"
   ]
  },
  {
   "cell_type": "code",
   "execution_count": 12,
   "metadata": {
    "slideshow": {
     "slide_type": "skip"
    }
   },
   "outputs": [
    {
     "name": "stdout",
     "output_type": "stream",
     "text": [
      "Help on function powerset in module __main__:\n",
      "\n",
      "powerset(l)\n",
      "    Returns the power set of l.\n",
      "\n"
     ]
    }
   ],
   "source": [
    "help(powerset)"
   ]
  },
  {
   "cell_type": "markdown",
   "metadata": {
    "slideshow": {
     "slide_type": "slide"
    }
   },
   "source": [
    "### Docstring styles\n",
    "\n",
    "- reST, Numpy, Google standardized documentation styles"
   ]
  },
  {
   "cell_type": "code",
   "execution_count": 16,
   "metadata": {
    "slideshow": {
     "slide_type": "subslide"
    }
   },
   "outputs": [],
   "source": [
    "# Google-style docstrings\n",
    "def power_of_two(n):\n",
    "    \"\"\"(Short description): Calculates 2^n.\n",
    "    \n",
    "    (Longer description): Calculates non-negative powers of two via bit shift.\n",
    "    \n",
    "    Args:\n",
    "        n (int): the exponent to raise 2 to.\n",
    "    Returns:\n",
    "        int: 2^n.\n",
    "    Raises:\n",
    "       ValueError: if n < 0.\n",
    "    \"\"\"\n",
    "    \n",
    "    # left bit shift by n equivalent to 2^n.\n",
    "    return 1 << n"
   ]
  },
  {
   "cell_type": "code",
   "execution_count": 17,
   "metadata": {
    "scrolled": true,
    "slideshow": {
     "slide_type": "subslide"
    }
   },
   "outputs": [
    {
     "name": "stdout",
     "output_type": "stream",
     "text": [
      "Help on function power_of_two in module __main__:\n",
      "\n",
      "power_of_two(n)\n",
      "    (Short description): Calculates 2^n.\n",
      "    \n",
      "    (Longer description): Calculates non-negative powers of two via bit shift.\n",
      "    \n",
      "    Args:\n",
      "        n (int): the exponent to raise 2 to.\n",
      "    Returns:\n",
      "        int: 2^n.\n",
      "    Raises:\n",
      "       ValueError: if n < 0.\n",
      "\n"
     ]
    }
   ],
   "source": [
    "help(power_of_two)"
   ]
  },
  {
   "cell_type": "markdown",
   "metadata": {
    "slideshow": {
     "slide_type": "slide"
    }
   },
   "source": [
    "### Docstring styles\n",
    "\n",
    "- reST, Numpy, Google standardized documentation styles\n",
    "- allows for automatic documentation generation"
   ]
  },
  {
   "cell_type": "code",
   "execution_count": 7,
   "metadata": {
    "slideshow": {
     "slide_type": "subslide"
    }
   },
   "outputs": [
    {
     "name": "stdout",
     "output_type": "stream",
     "text": [
      "def power_of_two(n):\n",
      "    \"\"\"Calculates :math:`2^n`.\n",
      "    \n",
      "    Calculates non-negative powers of two via bit shift.\n",
      "    \n",
      "    Args:\n",
      "        n (int): the exponent to raise 2 to.\n",
      "    Returns:\n",
      "        int: :math:`2^n`.\n",
      "    Raises:\n",
      "       ValueError: if :math:`n \\lt 0`.\n",
      "    \"\"\"\n",
      "    \n",
      "    # left bit shift by n equivalent to 2^n.\n",
      "    return 1 << n\n",
      "make: Entering directory '/mnt/c/Users/1994t/Documents/Github/code-workflow-lab-teaching/sphinx_demo'\n",
      "\u001b[01mRunning Sphinx v1.8.5\u001b[39;49;00m\n",
      "\u001b[01mloading pickled environment... \u001b[39;49;00mdone\n",
      "\u001b[01mbuilding [mo]: \u001b[39;49;00mtargets for 0 po files that are out of date\n",
      "\u001b[01mbuilding [html]\u001b[39;49;00m: targets for 0 source files that are out of date\n",
      "\u001b[01mupdating environment: \u001b[39;49;00m0 added, 0 changed, 0 removed\n",
      "\u001b[01mlooking for now-outdated files... \u001b[39;49;00mnone found\n",
      "\u001b[01mno targets are out of date.\u001b[39;49;00m\n",
      "\u001b[01mbuild succeeded.\u001b[39;49;00m\n",
      "\n",
      "The HTML pages are in _build/html.\n",
      "make: Leaving directory '/mnt/c/Users/1994t/Documents/Github/code-workflow-lab-teaching/sphinx_demo'\n"
     ]
    }
   ],
   "source": [
    "! cat sphinx_demo/code/power_of_two.py\n",
    "! make -C sphinx_demo html"
   ]
  },
  {
   "cell_type": "markdown",
   "metadata": {
    "slideshow": {
     "slide_type": "subslide"
    }
   },
   "source": [
    "<center><img src=\"images/sphinx_doc.PNG\" width=\"1500\"></center>"
   ]
  },
  {
   "cell_type": "markdown",
   "metadata": {
    "slideshow": {
     "slide_type": "slide"
    }
   },
   "source": [
    "## Testing"
   ]
  },
  {
   "cell_type": "markdown",
   "metadata": {
    "slideshow": {
     "slide_type": "slide"
    }
   },
   "source": [
    "## Testing\n",
    "\n",
    "1. Think about what your code \"should do\"\n",
    "2. Ideally write dedicated tests\n",
    "3. Consider testing suites"
   ]
  },
  {
   "cell_type": "markdown",
   "metadata": {
    "slideshow": {
     "slide_type": "slide"
    }
   },
   "source": [
    "### Test-driven development mindset "
   ]
  },
  {
   "cell_type": "code",
   "execution_count": 1,
   "metadata": {
    "slideshow": {
     "slide_type": "fragment"
    }
   },
   "outputs": [],
   "source": [
    "# TODO example of writing unit tests first"
   ]
  },
  {
   "cell_type": "markdown",
   "metadata": {
    "slideshow": {
     "slide_type": "slide"
    }
   },
   "source": [
    "### `assert` statements"
   ]
  },
  {
   "cell_type": "markdown",
   "metadata": {
    "slideshow": {
     "slide_type": "slide"
    }
   },
   "source": [
    "### Consider `unittest` and code coverage"
   ]
  },
  {
   "cell_type": "markdown",
   "metadata": {
    "slideshow": {
     "slide_type": "slide"
    }
   },
   "source": [
    "## Version Control\n",
    "\n",
    "1. Commit messages should be informative\n",
    "2. Ideally subdivide tasks into concrete commits\n",
    "3. Consider branching strategies"
   ]
  },
  {
   "cell_type": "markdown",
   "metadata": {
    "slideshow": {
     "slide_type": "slide"
    }
   },
   "source": [
    "### Commit Messages"
   ]
  },
  {
   "cell_type": "markdown",
   "metadata": {
    "slideshow": {
     "slide_type": "slide"
    }
   },
   "source": [
    "### Consider Development Branches"
   ]
  },
  {
   "cell_type": "markdown",
   "metadata": {
    "slideshow": {
     "slide_type": "slide"
    }
   },
   "source": [
    "## Automation\n",
    "\n",
    "1. Move your workflows out of \"interactive mode\" as soon as possible\n",
    "2. Ideally batch process computation\n",
    "3. Consider workflow automation tools like `make`"
   ]
  },
  {
   "cell_type": "markdown",
   "metadata": {
    "slideshow": {
     "slide_type": "slide"
    }
   },
   "source": [
    "### `argparse` is your friend\n",
    "\n"
   ]
  },
  {
   "cell_type": "code",
   "execution_count": 2,
   "metadata": {},
   "outputs": [],
   "source": [
    "# TODO argparse example, lift from Optum code"
   ]
  },
  {
   "cell_type": "markdown",
   "metadata": {
    "slideshow": {
     "slide_type": "notes"
    }
   },
   "source": [
    "- argparse is yet another form of documentation"
   ]
  },
  {
   "cell_type": "markdown",
   "metadata": {
    "slideshow": {
     "slide_type": "slide"
    }
   },
   "source": [
    "### And so are `screen` and `tmux`"
   ]
  },
  {
   "cell_type": "markdown",
   "metadata": {
    "slideshow": {
     "slide_type": "notes"
    }
   },
   "source": [
    "- much better than running python ... (especially better than running a computation in jupyter)\n",
    "- more sophisticated way of scheduling jobs in the background"
   ]
  },
  {
   "cell_type": "markdown",
   "metadata": {},
   "source": [
    "### Consider `make` for complex workflows"
   ]
  },
  {
   "cell_type": "markdown",
   "metadata": {
    "slideshow": {
     "slide_type": "notes"
    }
   },
   "source": [
    "- disclaimer: I haven't yet encountered a workflow in my research career that make makes significantly easier"
   ]
  },
  {
   "cell_type": "code",
   "execution_count": null,
   "metadata": {},
   "outputs": [],
   "source": [
    "# TODO Makefile example, perhaps lifted from CIS 501"
   ]
  },
  {
   "cell_type": "markdown",
   "metadata": {
    "slideshow": {
     "slide_type": "slide"
    }
   },
   "source": [
    "## Reproducibility\n",
    "\n",
    "1. Parameterize everything, including your environment\n",
    "2. A/B test\n",
    "4. Consider Docker for complex environments"
   ]
  },
  {
   "cell_type": "markdown",
   "metadata": {
    "slideshow": {
     "slide_type": "slide"
    }
   },
   "source": [
    "### Bash scripts as documentation\n",
    "\n",
    "- Our form of an experimental procedure\n",
    "- gives us a mechanism to track permutations in "
   ]
  },
  {
   "cell_type": "markdown",
   "metadata": {},
   "source": [
    "### Gives us a mechanism for"
   ]
  },
  {
   "cell_type": "markdown",
   "metadata": {
    "slideshow": {
     "slide_type": "slide"
    }
   },
   "source": [
    "## Thoughts on Jupyter Notebooks"
   ]
  },
  {
   "cell_type": "markdown",
   "metadata": {
    "slideshow": {
     "slide_type": "slide"
    }
   },
   "source": [
    "### Jupyter notebooks are __notebooks__\n",
    "\n",
    "- good for playing with the data\n",
    "- good for presenting final results\n",
    "- bad for \"doing work\" in between"
   ]
  },
  {
   "cell_type": "markdown",
   "metadata": {
    "slideshow": {
     "slide_type": "notes"
    }
   },
   "source": [
    "- note that \"doing work\" may never happen on a particular research thread, hence the appeal of Jupyter notebooks for research"
   ]
  },
  {
   "cell_type": "markdown",
   "metadata": {
    "slideshow": {
     "slide_type": "slide"
    }
   },
   "source": [
    "## My workflow (still a work in progress)"
   ]
  },
  {
   "cell_type": "markdown",
   "metadata": {
    "slideshow": {
     "slide_type": "slide"
    }
   },
   "source": [
    "## References"
   ]
  }
 ],
 "metadata": {
  "celltoolbar": "Slideshow",
  "kernelspec": {
   "display_name": "Python 3",
   "language": "python",
   "name": "python3"
  },
  "language_info": {
   "codemirror_mode": {
    "name": "ipython",
    "version": 3
   },
   "file_extension": ".py",
   "mimetype": "text/x-python",
   "name": "python",
   "nbconvert_exporter": "python",
   "pygments_lexer": "ipython3",
   "version": "3.7.2"
  }
 },
 "nbformat": 4,
 "nbformat_minor": 2
}
